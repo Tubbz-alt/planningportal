{
 "cells": [
  {
   "cell_type": "markdown",
   "metadata": {},
   "source": [
    "# Graph testing\n",
    "This is a notebook that can be used to play around with graphs and get instant feedback (instead of passing it to html and running the server.)\n",
    "\n",
    "It was tricky to get Jupyter to run Django, and I hope it is reproducible.  To run this, Jupyter must be launched from within pipenv.  And while there might be a way to run a notebook in a subdirectory, I could only get it to work when the notebook is in the root folder."
   ]
  },
  {
   "cell_type": "markdown",
   "metadata": {},
   "source": [
    "## Setup code"
   ]
  },
  {
   "cell_type": "code",
   "execution_count": 1,
   "metadata": {
    "collapsed": true
   },
   "outputs": [],
   "source": [
    "import os, sys\n",
    "configuration = os.getenv('ENVIRONMENT', 'development').title()\n",
    "os.environ.setdefault('DJANGO_SETTINGS_MODULE', 'planningportal.settings')\n",
    "os.environ.setdefault('DJANGO_CONFIGURATION', configuration)\n",
    "from configurations.management import execute_from_command_line\n",
    "import django\n",
    "django.setup()"
   ]
  },
  {
   "cell_type": "code",
   "execution_count": 2,
   "metadata": {
    "collapsed": true
   },
   "outputs": [],
   "source": [
    "if 'ppts.views' in sys.modules:\n",
    "    del sys.modules['ppts.views'] \n",
    "from ppts.views import *\n",
    "\n",
    "%matplotlib inline"
   ]
  },
  {
   "cell_type": "code",
   "execution_count": 3,
   "metadata": {
    "collapsed": true
   },
   "outputs": [],
   "source": [
    "import pandas as pd\n",
    "import datetime\n",
    "from django.db.models import Q\n",
    "from django.db.models import F"
   ]
  },
  {
   "cell_type": "markdown",
   "metadata": {},
   "source": [
    "## Record statuses"
   ]
  },
  {
   "cell_type": "code",
   "execution_count": 56,
   "metadata": {
    "collapsed": true
   },
   "outputs": [],
   "source": [
    "def pie_from_counts(query, label_key, counts_key):\n",
    "    '''Generates a pie chart from a query, and returns DataFrame with results.'''\n",
    "    counts = []\n",
    "    labels = []\n",
    "    for item in query:\n",
    "        labels.append(item[label_key])\n",
    "        counts.append(item[counts_key])\n",
    "    fig,ax = plt.subplots(figsize=(4,4))\n",
    "    plt.show(ax.pie(counts, labels=labels))\n",
    "    \n",
    "    counts_table = pd.DataFrame({'label':labels,'counts':counts})\n",
    "    return counts_table"
   ]
  },
  {
   "cell_type": "code",
   "execution_count": 260,
   "metadata": {
    "collapsed": false
   },
   "outputs": [
    {
     "name": "stdout",
     "output_type": "stream",
     "text": [
      "<QuerySet [{'status_counts': 251, 'status': 'Accepted'}, {'status_counts': 1, 'status': 'Actions Pending'}, {'status_counts': 330, 'status': 'Application Accepted'}, {'status_counts': 6, 'status': 'Approved'}, {'status_counts': 36689, 'status': 'Closed'}, {'status_counts': 12, 'status': 'Closed - Approved'}, {'status_counts': 1, 'status': 'Closed - Complete'}, {'status_counts': 141, 'status': 'Closed - Withdrawn'}, {'status_counts': 7, 'status': 'Complete'}, {'status_counts': 1, 'status': 'Denied'}, {'status_counts': 1, 'status': 'Disapproved'}, {'status_counts': 1, 'status': 'Incomplete'}, {'status_counts': 14, 'status': 'On Hold'}, {'status_counts': 226, 'status': 'Open'}, {'status_counts': 14, 'status': 'Pending'}, {'status_counts': 1, 'status': 'Pending Review'}, {'status_counts': 47, 'status': 'Submitted'}, {'status_counts': 1938, 'status': 'Under Review'}, {'status_counts': 573, 'status': 'Withdrawn'}, {'status_counts': 114, 'status': 'nan'}]>\n"
     ]
    }
   ],
   "source": [
    "projects = Record.objects.filter(record_type__pk = 'PRJ').values('status').annotate(status_counts = Count('pk'))\n",
    "print(projects)"
   ]
  },
  {
   "cell_type": "code",
   "execution_count": 129,
   "metadata": {
    "collapsed": false,
    "scrolled": false
   },
   "outputs": [
    {
     "data": {
      "image/png": "[encoded data removed]",
      "text/plain": [
       "<Figure size 288x288 with 1 Axes>"
      ]
     },
     "metadata": {},
     "output_type": "display_data"
    },
    {
     "name": "stdout",
     "output_type": "stream",
     "text": [
      "    counts                 label\n",
      "0      251              Accepted\n",
      "1        1       Actions Pending\n",
      "2      330  Application Accepted\n",
      "3        6              Approved\n",
      "4    36689                Closed\n",
      "5       12     Closed - Approved\n",
      "6        1     Closed - Complete\n",
      "7      141    Closed - Withdrawn\n",
      "8        7              Complete\n",
      "9        1                Denied\n",
      "10       1           Disapproved\n",
      "11       1            Incomplete\n",
      "12      14               On Hold\n",
      "13     226                  Open\n",
      "14      14               Pending\n",
      "15       1        Pending Review\n",
      "16      47             Submitted\n",
      "17    1938          Under Review\n",
      "18     573             Withdrawn\n",
      "19     114                   nan\n",
      "Total number of records: 40368\n"
     ]
    }
   ],
   "source": [
    "#pie chart for all projects\n",
    "projects = Record.objects.filter(record_type__pk = 'PRJ').values('status').annotate(status_counts = Count('pk'))\n",
    "table = pie_from_counts(projects,'status','status_counts')\n",
    "print(table)\n",
    "print('Total number of records: %s' % table['counts'].sum())"
   ]
  },
  {
   "cell_type": "markdown",
   "metadata": {},
   "source": [
    "Here's the problem: \"Closed\" includes records whose status is unknown, even to the planning department!  They say that some of these come from legacy records, where the status could not be accurately determined.  I think some of them have been approved, but it's lumped together in a way that we're not actually sure.  (Note: \"Accepted\" does not mean \"approved\" and just means the application met minimum requirements to begin consideration.)"
   ]
  },
  {
   "cell_type": "code",
   "execution_count": 137,
   "metadata": {
    "collapsed": false,
    "scrolled": true
   },
   "outputs": [
    {
     "data": {
      "image/png": "[encoded data removed]",
      "text/plain": [
       "<Figure size 288x288 with 1 Axes>"
      ]
     },
     "metadata": {},
     "output_type": "display_data"
    },
    {
     "name": "stdout",
     "output_type": "stream",
     "text": [
      "   counts                 label\n",
      "0      45              Accepted\n",
      "1      51  Application Accepted\n",
      "2    1145                Closed\n",
      "3      46                  Open\n",
      "4      12             Submitted\n",
      "5     581          Under Review\n",
      "6      55             Withdrawn\n",
      "Total number of records: 1935\n"
     ]
    }
   ],
   "source": [
    "#Limit to projects from 2018\n",
    "projects = Record.objects.filter(record_type__pk = 'PRJ').filter(\n",
    "    date_opened__lt=datetime.date(2019, 1, 1), date_opened__gt=datetime.date(2018, 1, 1)\n",
    "    ).values('status').annotate(status_counts = Count('pk'))\n",
    "table = pie_from_counts(projects,'status','status_counts')\n",
    "print(table)\n",
    "print('Total number of records: %s' % table['counts'].sum())"
   ]
  },
  {
   "cell_type": "code",
   "execution_count": 162,
   "metadata": {
    "collapsed": false
   },
   "outputs": [
    {
     "name": "stdout",
     "output_type": "stream",
     "text": [
      "SELECT \"ppts_record\".\"status\", COUNT(\"ppts_record\".\"id\") AS \"status_counts\" FROM \"ppts_record\" INNER JOIN \"ppts_projectfeature\" ON (\"ppts_record\".\"id\" = \"ppts_projectfeature\".\"record_id\") WHERE (\"ppts_record\".\"record_type_id\" = PRJ AND ((\"ppts_projectfeature\".\"net\" > 0 AND \"ppts_projectfeature\".\"type\" = MARKET_RATE) OR (\"ppts_projectfeature\".\"net\" > 0 AND \"ppts_projectfeature\".\"type\" = AFFORDABLE)) AND \"ppts_record\".\"date_opened\" > 2018-01-01 AND \"ppts_record\".\"date_opened\" < 2019-01-01) GROUP BY \"ppts_record\".\"status\"\n"
     ]
    }
   ],
   "source": [
    "print(projects.query)"
   ]
  },
  {
   "cell_type": "code",
   "execution_count": 164,
   "metadata": {
    "collapsed": false,
    "scrolled": true
   },
   "outputs": [
    {
     "data": {
      "image/png": "[encoded data removed]",
      "text/plain": [
       "<Figure size 288x288 with 1 Axes>"
      ]
     },
     "metadata": {},
     "output_type": "display_data"
    },
    {
     "name": "stdout",
     "output_type": "stream",
     "text": [
      "    counts                 label\n",
      "0        3              Accepted\n",
      "1       35  Application Accepted\n",
      "2     1497                Closed\n",
      "3        2              Complete\n",
      "4        1           Disapproved\n",
      "5        1               On Hold\n",
      "6       14                  Open\n",
      "7        9             Submitted\n",
      "8      333          Under Review\n",
      "9       79             Withdrawn\n",
      "10       3                   nan\n",
      "Total number of records: 1977\n"
     ]
    }
   ],
   "source": [
    "#limit to projects that increase the number of market rate units OR affordable units\n",
    "projects = Record.objects.filter(record_type__pk = 'PRJ').filter(\n",
    "    Q(projectfeature__type=ProjectFeature.MARKET_RATE, projectfeature__net__gt=0) |\n",
    "    Q(projectfeature__type=ProjectFeature.AFFORDABLE, projectfeature__net__gt=0) \n",
    "    ).values('status').annotate(status_counts = Count('pk',distinct=True))\n",
    "#note the 'distinct' parameter is set to True, which is necessary because \n",
    "#there's an implicit join between tables that duplicates some of the entries of the Record table.\n",
    "table = pie_from_counts(projects,'status','status_counts')\n",
    "print(table)\n",
    "print('Total number of records: %s' % table['counts'].sum())"
   ]
  },
  {
   "cell_type": "markdown",
   "metadata": {},
   "source": [
    "I'd like to try finding more information about projects by looking at related (parent & child) records.  But first, we need to characterize this aspect of the data.  How many PRJ records even have children or parents?  What kind of records are the children and parents?"
   ]
  },
  {
   "cell_type": "code",
   "execution_count": 317,
   "metadata": {
    "collapsed": false,
    "scrolled": true
   },
   "outputs": [
    {
     "name": "stdout",
     "output_type": "stream",
     "text": [
      "7\n"
     ]
    }
   ],
   "source": [
    "project_parents = Record.parent.through.objects.filter(from_record__record_type__pk = 'PRJ').filter(\n",
    "    Q(from_record__projectfeature__type=ProjectFeature.MARKET_RATE, from_record__projectfeature__net__gt=0) |\n",
    "    Q(from_record__projectfeature__type=ProjectFeature.AFFORDABLE, from_record__projectfeature__net__gt=0) ).distinct()\n",
    "\n",
    "#This is the count of parent-child relationships where the child is a housing project\n",
    "print(project_children.count())"
   ]
  },
  {
   "cell_type": "code",
   "execution_count": 318,
   "metadata": {
    "collapsed": false
   },
   "outputs": [
    {
     "name": "stdout",
     "output_type": "stream",
     "text": [
      "1485\n"
     ]
    }
   ],
   "source": [
    "project_parents = Record.parent.through.objects.filter(to_record__record_type__pk = 'PRJ').filter(\n",
    "    Q(to_record__projectfeature__type=ProjectFeature.MARKET_RATE, to_record__projectfeature__net__gt=0) |\n",
    "    Q(to_record__projectfeature__type=ProjectFeature.AFFORDABLE, to_record__projectfeature__net__gt=0) ).distinct()\n",
    "\n",
    "#This is the count of parent-child relationships where the parent is a housing project\n",
    "print(project_parents.count())"
   ]
  },
  {
   "cell_type": "markdown",
   "metadata": {},
   "source": [
    "## Potential database issues\n",
    "Just noting some database issues as I run into them."
   ]
  },
  {
   "cell_type": "markdown",
   "metadata": {},
   "source": [
    "### Parent-child relationship (resolved)\n",
    "Resolution: Modified the parent ManyToManyField to include the parameter `symmetrical=False`.  The database now works as intended.\n",
    "\n",
    "For some reason the parent-child relationship doesn't work entirely correctly.\n",
    "\n",
    "The Record model includes a ManyToMany relationship to itself, where each record includes a list of all parents.  Given a particular record, it is possible to get all the parents, and it is possible to filter on the properties of the parents."
   ]
  },
  {
   "cell_type": "code",
   "execution_count": 4,
   "metadata": {
    "collapsed": false,
    "scrolled": true
   },
   "outputs": [
    {
     "name": "stdout",
     "output_type": "stream",
     "text": [
      "<QuerySet [<Record: Record object (90111)>]>\n"
     ]
    }
   ],
   "source": [
    "#get all parents of a record\n",
    "r = Record.objects.get(pk=109391)\n",
    "print(r.parent.all())"
   ]
  },
  {
   "cell_type": "code",
   "execution_count": 5,
   "metadata": {
    "collapsed": false
   },
   "outputs": [
    {
     "name": "stdout",
     "output_type": "stream",
     "text": [
      "<QuerySet [<Record: Record object (1171)>]>\n"
     ]
    }
   ],
   "source": [
    "#filter on properties of parent\n",
    "q = Record.objects.filter(parent__pk=109391)\n",
    "print(q)"
   ]
  },
  {
   "cell_type": "markdown",
   "metadata": {},
   "source": [
    "It should also be possible to perform the reverse operations, using the `related_name` parameter of the ManyToManyField.  In the Record model, the `related_name` parameter is set to 'child'.  However, operations using the keyword 'child' are not recognized."
   ]
  },
  {
   "cell_type": "code",
   "execution_count": 6,
   "metadata": {
    "collapsed": false
   },
   "outputs": [
    {
     "data": {
      "text/plain": [
       "(<ManyToManyRel: ppts.record>,\n",
       " <ManyToOneRel: ppts.landuse>,\n",
       " <ManyToOneRel: ppts.projectfeature>,\n",
       " <ManyToOneRel: ppts.dwellingtype>,\n",
       " <django.db.models.fields.IntegerField: id>,\n",
       " <django.db.models.fields.related.ForeignKey: planner>,\n",
       " <django.db.models.fields.related.ForeignKey: location>,\n",
       " <django.db.models.fields.related.ForeignKey: record_type>,\n",
       " <django.db.models.fields.CharField: record_id>,\n",
       " <django.db.models.fields.IntegerField: object_id>,\n",
       " <django.db.models.fields.CharField: template_id>,\n",
       " <django.db.models.fields.CharField: name>,\n",
       " <django.db.models.fields.TextField: description>,\n",
       " <django.db.models.fields.CharField: status>,\n",
       " <django.db.models.fields.FloatField: construct_cost>,\n",
       " <django.db.models.fields.CharField: related_building_permit>,\n",
       " <django.db.models.fields.TextField: acalink>,\n",
       " <django.db.models.fields.TextField: aalink>,\n",
       " <django.db.models.fields.DateField: date_opened>,\n",
       " <django.db.models.fields.DateField: date_closed>,\n",
       " <django.db.models.fields.CharField: mcd_referral>,\n",
       " <django.db.models.fields.CharField: environmental_review>,\n",
       " <django.db.models.fields.DateField: bos_1st_read>,\n",
       " <django.db.models.fields.DateField: bos_2nd_read>,\n",
       " <django.db.models.fields.DateField: com_hearing>,\n",
       " <django.db.models.fields.DateField: mayoral_sign>,\n",
       " <django.db.models.fields.DateField: transmit_date_bos>,\n",
       " <django.db.models.fields.DateField: com_hearing_date_bos>,\n",
       " <django.db.models.fields.related.ManyToManyField: parent>,\n",
       " <django.db.models.fields.related.ManyToManyField: project_description>)"
      ]
     },
     "execution_count": 6,
     "metadata": {},
     "output_type": "execute_result"
    }
   ],
   "source": [
    "Record._meta.get_fields()"
   ]
  },
  {
   "cell_type": "code",
   "execution_count": 8,
   "metadata": {
    "collapsed": false,
    "scrolled": true
   },
   "outputs": [
    {
     "name": "stdout",
     "output_type": "stream",
     "text": [
      "<QuerySet [<Record: Record object (90111)>]>\n"
     ]
    }
   ],
   "source": [
    "#try filtering on properties of child\n",
    "q = Record.objects.filter(child__pk=109391)\n",
    "print(q)"
   ]
  },
  {
   "cell_type": "markdown",
   "metadata": {},
   "source": [
    "What *is* possible, is querying the through table."
   ]
  },
  {
   "cell_type": "code",
   "execution_count": 9,
   "metadata": {
    "collapsed": false,
    "scrolled": true
   },
   "outputs": [
    {
     "name": "stdout",
     "output_type": "stream",
     "text": [
      "Record object (90111)\n"
     ]
    }
   ],
   "source": [
    "#Query the through table, and filter out all entries where the child field is 109391\n",
    "rel = Record.parent.through.objects.filter(from_record=109391)\n",
    "#print out the parent field for the first such entry\n",
    "print(rel[0].to_record)"
   ]
  },
  {
   "cell_type": "code",
   "execution_count": 10,
   "metadata": {
    "collapsed": false
   },
   "outputs": [
    {
     "name": "stdout",
     "output_type": "stream",
     "text": [
      "Record object (109391)\n"
     ]
    }
   ],
   "source": [
    "#Query the through table, and filter out all entries where the parent field is 109391\n",
    "rel = Record.parent.through.objects.filter(from_record=109391)\n",
    "#print out the child field for the first such entry\n",
    "print(rel[0].from_record)"
   ]
  },
  {
   "cell_type": "markdown",
   "metadata": {},
   "source": [
    "In conclusion, the relevant information is in the database, but for some reason the queries using `related_name` do not work properly.  I suspect it may be a problem in the construction of the database"
   ]
  },
  {
   "cell_type": "code",
   "execution_count": null,
   "metadata": {
    "collapsed": true
   },
   "outputs": [],
   "source": []
  }
 ],
 "metadata": {
  "kernelspec": {
   "display_name": "Python [Root]",
   "language": "python",
   "name": "Python [Root]"
  },
  "language_info": {
   "codemirror_mode": {
    "name": "ipython",
    "version": 3
   },
   "file_extension": ".py",
   "mimetype": "text/x-python",
   "name": "python",
   "nbconvert_exporter": "python",
   "pygments_lexer": "ipython3",
   "version": "3.5.1"
  }
 },
 "nbformat": 4,
 "nbformat_minor": 2
}
